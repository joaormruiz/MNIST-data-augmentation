{
 "cells": [
  {
   "cell_type": "markdown",
   "metadata": {},
   "source": [
    "# Classificação de dados - MNIST\n",
    "\n",
    "Este código é parte de tarefa do curso Introdução ao Machine Learning, oferecido pelo Departamento de Matemática da Universidade Federal de Santa Catarina, e ministrado pelo professor Edson Cilos Vargas Júnior. \n",
    "\n",
    "A tarefa é a seguinte: criar uma função que desloca a imagem em um píxel em qualquer direção (cima/baixo, esquerda/direita). Então, treinar um modelo de ML num conjunto de teste transladado (em uma direção pra cada instância do conjunto de teste original), e finalmente testar no conjunto de teste separado pelo professor (será obtido fixando a semente aleatória do NumPy). "
   ]
  },
  {
   "cell_type": "code",
   "execution_count": 1,
   "metadata": {},
   "outputs": [],
   "source": [
    "import numpy as np\n",
    "np.random.seed(42)"
   ]
  },
  {
   "cell_type": "code",
   "execution_count": 2,
   "metadata": {},
   "outputs": [],
   "source": [
    "from sklearn.datasets import fetch_openml\n",
    "mnist = fetch_openml('mnist_784',version=1,cache=True)\n",
    "X,y = mnist['data'],mnist['target']"
   ]
  },
  {
   "cell_type": "code",
   "execution_count": 3,
   "metadata": {},
   "outputs": [],
   "source": [
    "%matplotlib inline\n",
    "import matplotlib\n",
    "import matplotlib.pyplot as plt\n",
    "\n",
    "def plotar_numero(digito):\n",
    "    algum_digito_imagem = digito.reshape(28,28)\n",
    "    plt.imshow(algum_digito_imagem, cmap=matplotlib.cm.binary,\n",
    "              interpolation='nearest')\n",
    "    plt.axis('off')\n",
    "    plt.show()"
   ]
  },
  {
   "cell_type": "code",
   "execution_count": 7,
   "metadata": {},
   "outputs": [],
   "source": [
    "# Vamos começar transladando a figura 1 pixel pra cima. \n",
    "def transladar_pra_cima(imagem):\n",
    "    im_transladada = np.append(imagem.reshape(28,28)[1:],[np.zeros(28)],axis=0)\n",
    "    return np.append([],im_transladada)\n",
    "\n",
    "# Agora transladar a figura 1 pixel pra baixo. \n",
    "def transladar_pra_baixo(imagem):\n",
    "    im_transladada = np.append([np.zeros(28)],imagem.reshape(28,28)[:-1],axis=0)\n",
    "    return np.append([],im_transladada)\n",
    "\n",
    "# Translação 1 pixel à direita\n",
    "def transladar_pra_direita(imagem):\n",
    "    im_transladada = np.append([np.zeros(28)],imagem.reshape(28,28)[:,:-1].T,axis=0).T\n",
    "    return np.append([],im_transladada)\n",
    "\n",
    "# Translação 1 pixel à esquerda\n",
    "def transladar_pra_esquerda(imagem):\n",
    "    im_transladada = np.append(imagem.reshape(28,28)[:,1:].T,[np.zeros(28)],axis=0).T\n",
    "    return np.append([],im_transladada)\n",
    "\n",
    "# Finalmente, vamos implementar a translação em qualquer direção: \n",
    "def transladar_1_pixel(imagem,direcao):\n",
    "    if direcao=='c':\n",
    "        return transladar_pra_cima(imagem)\n",
    "    if direcao=='b':\n",
    "        return transladar_pra_baixo(imagem)\n",
    "    if direcao=='e':\n",
    "        return transladar_pra_esquerda(imagem)\n",
    "    if direcao=='d':\n",
    "        return transladar_pra_direita(imagem)"
   ]
  },
  {
   "cell_type": "markdown",
   "metadata": {},
   "source": [
    "Agora que temos um jeito prático de transladar imagens em qualquer direção, podemos criar um conjunto de dados de treinamento aumentado. "
   ]
  },
  {
   "cell_type": "code",
   "execution_count": 8,
   "metadata": {},
   "outputs": [],
   "source": [
    "# No caso do dataset MNIST, ele já é convenientemente dividido\n",
    "X_train, X_test, y_train, y_test = X[:60000], X[60000:], y[:60000], y[60000:]\n",
    "\n",
    "# Porém vamos embaralhá-lo\n",
    "shuffle_index = np.random.permutation(60000)\n",
    "X_train, y_train = X_train[shuffle_index], y_train[shuffle_index]"
   ]
  },
  {
   "cell_type": "code",
   "execution_count": 9,
   "metadata": {},
   "outputs": [],
   "source": [
    "# E vamos criar um novo conjunto de treinamento.\n",
    "X_train_aug = []\n",
    "y_train_aug = []\n",
    "for i in range(len(X_train)):\n",
    "    X_train_aug.append(X_train[i])\n",
    "    y_train_aug.append(y_train[i])\n",
    "    for direcao in ['c','b','e','d']:\n",
    "        X_train_aug.append(transladar_1_pixel(X_train[i],direcao))\n",
    "        y_train_aug.append(y_train[i])"
   ]
  },
  {
   "cell_type": "code",
   "execution_count": 10,
   "metadata": {},
   "outputs": [
    {
     "data": {
      "text/plain": [
       "300000"
      ]
     },
     "execution_count": 10,
     "metadata": {},
     "output_type": "execute_result"
    }
   ],
   "source": [
    "len(X_train_aug)"
   ]
  },
  {
   "cell_type": "markdown",
   "metadata": {},
   "source": [
    "Agora temos um conjunto de treinamento com $5\\cdot60\\,000=300\\,000$ instâncias. Vamos treinar um modelo nesse conjunto de treinamento, usando o mesmo algoritmo usado na aula:"
   ]
  },
  {
   "cell_type": "code",
   "execution_count": null,
   "metadata": {},
   "outputs": [],
   "source": [
    "from sklearn.linear_model import SGDClassifier \n",
    "from sklearn.model_selection import GridSearchCV\n",
    "from sklearn.pipeline import Pipeline #Para criar um pipeline!\n",
    "from sklearn.preprocessing import StandardScaler\n",
    "\n",
    "pipe = Pipeline([('std_scaler', StandardScaler()),\n",
    "                 ('estimator', SGDClassifier(max_iter = 10, random_state=42))\n",
    "             ]) #O nosso modelo passará pelo std_scaler e depois pelo estimador\n",
    "\n",
    "#Usaremos 10 epochs, por isso max_iter = 10 \n",
    "#Cuidado, valores alto de max_iter fazem o algortirmo demorar\n",
    "#Outros valores para max_iter ou random_state, vão alterar o resultado\n",
    "\n",
    "param_grid = [{'estimator__loss' : ['hinge', 'log'],\n",
    "               'estimator__alpha': [1e-4, 1e-2, 1],\n",
    "               }] #grade de parâmetros para testar\n",
    "\n",
    "\"\"\"É necessário colocar o prefixo estimator__ para indicar que os parâmetros \n",
    "serão aplicados ao estimador. Você poderia tentar otimizar o pré-processamento\n",
    "dentro do pipeline também! Mas observa que muitos parâmetros tornam o processo\n",
    "bem demora.\n",
    "\"\"\"\n",
    "\n",
    "#Quanto maior o verbose no GridSearch, mais detalhes sobre o processo\n",
    "#n_jobs = -1 signifca o número de cores da máquina (-1 usa todos)\n",
    "grid_search = GridSearchCV(pipe, param_grid, cv=5, verbose=10, n_jobs=-1)\n",
    "grid_search.fit(X_train_aug, y_train_aug)"
   ]
  },
  {
   "cell_type": "code",
   "execution_count": null,
   "metadata": {},
   "outputs": [],
   "source": [
    "model = Pipeline([('std_scaler', StandardScaler()),\n",
    "                 ('estimator', SGDClassifier(max_iter = 10, random_state=42))\n",
    "             ])\n",
    "\n",
    "model.set_params(**grid_search.best_params_) #Introduz no pipeline os parametros"
   ]
  },
  {
   "cell_type": "code",
   "execution_count": null,
   "metadata": {},
   "outputs": [],
   "source": [
    "#Treinando o modelo\n",
    "model.fit(X_train_aug, y_train_aug)"
   ]
  },
  {
   "cell_type": "code",
   "execution_count": null,
   "metadata": {},
   "outputs": [],
   "source": [
    "#classe que implementa OvO na força\n",
    "from sklearn.multiclass import OneVsOneClassifier\n",
    "\n",
    "#Vamos aumentar o número de iterações.\n",
    "#Lembra que na técnica OvO há mais treinamentos mas pode ser interessante \n",
    "#quando o modelo sofre com a escala\n",
    "\n",
    "model = Pipeline([('std_scaler', StandardScaler()),\n",
    "                 ('estimator', SGDClassifier(max_iter = 1000, random_state=42))\n",
    "             ])\n",
    "\n",
    "model.set_params(**grid_search.best_params_)\n",
    "ovo_clf = OneVsOneClassifier(model)"
   ]
  },
  {
   "cell_type": "code",
   "execution_count": null,
   "metadata": {},
   "outputs": [],
   "source": [
    "from sklearn.model_selection import cross_val_score\n",
    "scores = cross_val_score(ovo_clf, X_train_aug, y_train_aug, cv=5)\n",
    "print('Scores da cross-validation oVo:',scores)"
   ]
  },
  {
   "cell_type": "code",
   "execution_count": null,
   "metadata": {},
   "outputs": [],
   "source": [
    "ovo_clf.fit(X_train_aug, y_train_aug)"
   ]
  },
  {
   "cell_type": "code",
   "execution_count": null,
   "metadata": {},
   "outputs": [],
   "source": [
    "from sklearn.model_selection import cross_val_score\n",
    "scores = cross_val_score(ovo_clf, X_train_aug, y_train_aug, cv=5)\n",
    "print('Scores da validação cruzada:',scores)"
   ]
  },
  {
   "cell_type": "code",
   "execution_count": null,
   "metadata": {},
   "outputs": [],
   "source": [
    "y_pred = ovo_clf.predict(X_test)\n",
    "conf_mx = confusion_matrix(y_test, y_pred)\n",
    "print(conf_mx)"
   ]
  },
  {
   "cell_type": "code",
   "execution_count": null,
   "metadata": {},
   "outputs": [],
   "source": [
    "from sklearn.metrics import accuracy_score\n",
    "accuracy_score(y_test, y_pred)"
   ]
  }
 ],
 "metadata": {
  "kernelspec": {
   "display_name": "Python 3",
   "language": "python",
   "name": "python3"
  },
  "language_info": {
   "codemirror_mode": {
    "name": "ipython",
    "version": 3
   },
   "file_extension": ".py",
   "mimetype": "text/x-python",
   "name": "python",
   "nbconvert_exporter": "python",
   "pygments_lexer": "ipython3",
   "version": "3.8.3"
  }
 },
 "nbformat": 4,
 "nbformat_minor": 4
}
